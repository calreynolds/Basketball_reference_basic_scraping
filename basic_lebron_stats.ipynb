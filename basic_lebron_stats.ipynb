{
 "cells": [
  {
   "cell_type": "code",
   "execution_count": 1,
   "metadata": {},
   "outputs": [],
   "source": [
    "import pandas as pd\n",
    "import numpy as np\n",
    "import matplotlib.pyplot as plt\n",
    "import seaborn as sns\n",
    "import functools as fc\n",
    "\n",
    "import warnings\n",
    "warnings.filterwarnings('ignore')\n",
    "\n",
    "sns.set(style=\"darkgrid\")\n",
    "%matplotlib inline"
   ]
  },
  {
   "cell_type": "code",
   "execution_count": 2,
   "metadata": {},
   "outputs": [],
   "source": [
    "from urllib.request import urlopen\n",
    "from bs4 import BeautifulSoup"
   ]
  },
  {
   "cell_type": "code",
   "execution_count": 3,
   "metadata": {},
   "outputs": [],
   "source": [
    "url = \"https://www.basketball-reference.com/players/j/jamesle01.html\"\n",
    "html = urlopen(url)"
   ]
  },
  {
   "cell_type": "code",
   "execution_count": 4,
   "metadata": {},
   "outputs": [],
   "source": [
    "soup = BeautifulSoup(html, 'html.parser')"
   ]
  },
  {
   "cell_type": "code",
   "execution_count": 5,
   "metadata": {},
   "outputs": [
    {
     "name": "stdout",
     "output_type": "stream",
     "text": [
      "<title>LeBron James Stats | Basketball-Reference.com</title>\n"
     ]
    }
   ],
   "source": [
    "title = soup.title\n",
    "print(title)"
   ]
  },
  {
   "cell_type": "code",
   "execution_count": 6,
   "metadata": {},
   "outputs": [],
   "source": [
    "concat_class = []\n",
    "webpage_links = soup.findAll(True, {'class':['titleColumn']})\n",
    "#print(webpage_links[5])\n",
    "import re\n",
    "clean = re.compile('\".*\"')\n",
    "for i in range(0, len(webpage_links), 3):\n",
    "    str_cells_1 = str(webpage_links[i])\n",
    "    cleantext1 = BeautifulSoup(str_cells_1, \"html.parser\").get_text()\n",
    "    str_cells_2 = str(webpage_links[i+1])\n",
    "    cleantext2 = BeautifulSoup(str_cells_2, \"html.parser\").find_all('strong')\n",
    "    #print(cleantext2)\n",
    "    str_cells_3 = str(cleantext2)\n",
    "    cleantext3 =re.search(clean, str_cells_3).group(0)\n",
    "    #print(\"ppoo\", cleantext3)\n",
    "    \n",
    "    concat_class.append([str(cleantext1) + str(cleantext3)])\n",
    "    #concat_class.append([webpage_links[i], webpage_links[i+1]])\n",
    "\n",
    "    "
   ]
  },
  {
   "cell_type": "code",
   "execution_count": 7,
   "metadata": {},
   "outputs": [],
   "source": [
    "import re\n",
    "webpage_links = soup.find_all('tr', {'id': re.compile(r'per.game.*')})\n"
   ]
  },
  {
   "cell_type": "code",
   "execution_count": 8,
   "metadata": {},
   "outputs": [
    {
     "data": {
      "text/plain": [
       "bs4.element.ResultSet"
      ]
     },
     "execution_count": 8,
     "metadata": {},
     "output_type": "execute_result"
    }
   ],
   "source": [
    "type(webpage_links)"
   ]
  },
  {
   "cell_type": "code",
   "execution_count": 9,
   "metadata": {
    "scrolled": true
   },
   "outputs": [
    {
     "name": "stdout",
     "output_type": "stream",
     "text": [
      "[19, CLE, NBA, SG, 79, 79, 39.5, 7.9, 18.9, .417, 0.8, 2.7, .290, 7.1, 16.1, .438, .438, 4.4, 5.8, .754, 1.3, 4.2, 5.5, 5.9, 1.6, 0.7, 3.5, 1.9, 20.9]\n",
      "[20, CLE, NBA, SF, 80, 80, 42.4, 9.9, 21.1, .472, 1.4, 3.9, .351, 8.6, 17.2, .499, .504, 6.0, 8.0, .750, 1.4, 6.0, 7.4, 7.2, 2.2, 0.7, 3.3, 1.8, 27.2]\n",
      "[21, CLE, NBA, SF, 79, 79, 42.5, 11.1, 23.1, .480, 1.6, 4.8, .335, 9.5, 18.3, .518, .515, 7.6, 10.3, .738, 0.9, 6.1, 7.0, 6.6, 1.6, 0.8, 3.3, 2.3, 31.4]\n",
      "[22, CLE, NBA, SF, 78, 78, 40.9, 9.9, 20.8, .476, 1.3, 4.0, .319, 8.6, 16.8, .513, .507, 6.3, 9.0, .698, 1.1, 5.7, 6.7, 6.0, 1.6, 0.7, 3.2, 2.2, 27.3]\n",
      "[23, CLE, NBA, SF, 75, 74, 40.4, 10.6, 21.9, .484, 1.5, 4.8, .315, 9.1, 17.1, .531, .518, 7.3, 10.3, .712, 1.8, 6.1, 7.9, 7.2, 1.8, 1.1, 3.4, 2.2, 30.0]\n",
      "[24, CLE, NBA, SF, 81, 81, 37.7, 9.7, 19.9, .489, 1.6, 4.7, .344, 8.1, 15.2, .535, .530, 7.3, 9.4, .780, 1.3, 6.3, 7.6, 7.2, 1.7, 1.1, 3.0, 1.7, 28.4]\n",
      "[25, CLE, NBA, SF, 76, 76, 39.0, 10.1, 20.1, .503, 1.7, 5.1, .333, 8.4, 15.0, .560, .545, 7.8, 10.2, .767, 0.9, 6.4, 7.3, 8.6, 1.6, 1.0, 3.4, 1.6, 29.7]\n",
      "[26, MIA, NBA, SF, 79, 79, 38.8, 9.6, 18.8, .510, 1.2, 3.5, .330, 8.4, 15.3, .552, .541, 6.4, 8.4, .759, 1.0, 6.5, 7.5, 7.0, 1.6, 0.6, 3.6, 2.1, 26.7]\n",
      "[27, MIA, NBA, SF, 62, 62, 37.5, 10.0, 18.9, .531, 0.9, 2.4, .362, 9.1, 16.5, .556, .554, 6.2, 8.1, .771, 1.5, 6.4, 7.9, 6.2, 1.9, 0.8, 3.4, 1.5, 27.1]\n",
      "[28, MIA, NBA, PF, 76, 76, 37.9, 10.1, 17.8, .565, 1.4, 3.3, .406, 8.7, 14.5, .602, .603, 5.3, 7.0, .753, 1.3, 6.8, 8.0, 7.3, 1.7, 0.9, 3.0, 1.4, 26.8]\n",
      "[29, MIA, NBA, PF, 77, 77, 37.7, 10.0, 17.6, .567, 1.5, 4.0, .379, 8.5, 13.6, .622, .610, 5.7, 7.6, .750, 1.1, 5.9, 6.9, 6.3, 1.6, 0.3, 3.5, 1.6, 27.1]\n",
      "[30, CLE, NBA, SF, 69, 69, 36.1, 9.0, 18.5, .488, 1.7, 4.9, .354, 7.3, 13.6, .536, .535, 5.4, 7.7, .710, 0.7, 5.3, 6.0, 7.4, 1.6, 0.7, 3.9, 2.0, 25.3]\n",
      "[31, CLE, NBA, SF, 76, 76, 35.6, 9.7, 18.6, .520, 1.1, 3.7, .309, 8.6, 14.9, .573, .551, 4.7, 6.5, .731, 1.5, 6.0, 7.4, 6.8, 1.4, 0.6, 3.3, 1.9, 25.3]\n",
      "[32, CLE, NBA, SF, 74, 74, 37.8, 9.9, 18.2, .548, 1.7, 4.6, .363, 8.3, 13.5, .611, .594, 4.8, 7.2, .674, 1.3, 7.3, 8.6, 8.7, 1.2, 0.6, 4.1, 1.8, 26.4]\n",
      "[33, CLE, NBA, PF, 82, 82, 36.9, 10.5, 19.3, .542, 1.8, 5.0, .367, 8.6, 14.3, .603, .590, 4.7, 6.5, .731, 1.2, 7.5, 8.6, 9.1, 1.4, 0.9, 4.2, 1.7, 27.5]\n",
      "[34, LAL, NBA, SF, 55, 55, 35.2, 10.1, 19.9, .510, 2.0, 5.9, .339, 8.1, 14.0, .582, .560, 5.1, 7.6, .665, 1.0, 7.4, 8.5, 8.3, 1.3, 0.6, 3.6, 1.7, 27.4]\n",
      "[35, LAL, NBA, PG, 60, 60, 34.9, 9.8, 19.6, .498, 2.2, 6.4, .349, 7.6, 13.3, .570, .555, 4.0, 5.7, .697, 1.0, 6.9, 7.9, 10.6, 1.2, 0.5, 4.0, 1.8, 25.7]\n"
     ]
    }
   ],
   "source": [
    "import re\n",
    "list_rows = []\n",
    "labels = []\n",
    "for row in webpage_links:\n",
    "    cells = row.find_all('td')\n",
    "    str_cells = str(cells)\n",
    "    clean = re.compile('<.*?>')\n",
    "    clean2 = (re.sub(clean, '',str_cells))\n",
    "    list_rows.append(clean2)\n",
    "    print(clean2)"
   ]
  },
  {
   "cell_type": "markdown",
   "metadata": {},
   "source": [
    "labels = webpage_links[0].find_all('td', {'data-stat': re.compile(r'.*')})\n",
    "all_header = []\n",
    "str_labels = str(labels)\n",
    "cleantext2 = BeautifulSoup(str_labels, \"lxml\").get()\n",
    "print(cleantext2)"
   ]
  },
  {
   "cell_type": "code",
   "execution_count": 10,
   "metadata": {},
   "outputs": [
    {
     "data": {
      "text/html": [
       "<div>\n",
       "<style scoped>\n",
       "    .dataframe tbody tr th:only-of-type {\n",
       "        vertical-align: middle;\n",
       "    }\n",
       "\n",
       "    .dataframe tbody tr th {\n",
       "        vertical-align: top;\n",
       "    }\n",
       "\n",
       "    .dataframe thead th {\n",
       "        text-align: right;\n",
       "    }\n",
       "</style>\n",
       "<table border=\"1\" class=\"dataframe\">\n",
       "  <thead>\n",
       "    <tr style=\"text-align: right;\">\n",
       "      <th></th>\n",
       "      <th>0</th>\n",
       "      <th>1</th>\n",
       "      <th>2</th>\n",
       "      <th>3</th>\n",
       "      <th>4</th>\n",
       "      <th>5</th>\n",
       "      <th>6</th>\n",
       "      <th>7</th>\n",
       "      <th>8</th>\n",
       "      <th>9</th>\n",
       "      <th>...</th>\n",
       "      <th>19</th>\n",
       "      <th>20</th>\n",
       "      <th>21</th>\n",
       "      <th>22</th>\n",
       "      <th>23</th>\n",
       "      <th>24</th>\n",
       "      <th>25</th>\n",
       "      <th>26</th>\n",
       "      <th>27</th>\n",
       "      <th>28</th>\n",
       "    </tr>\n",
       "  </thead>\n",
       "  <tbody>\n",
       "    <tr>\n",
       "      <th>0</th>\n",
       "      <td>Age</td>\n",
       "      <td>Team</td>\n",
       "      <td>League</td>\n",
       "      <td>Position</td>\n",
       "      <td>GP</td>\n",
       "      <td>GS</td>\n",
       "      <td>MP</td>\n",
       "      <td>FG</td>\n",
       "      <td>FGA</td>\n",
       "      <td>FG%</td>\n",
       "      <td>...</td>\n",
       "      <td>FT%</td>\n",
       "      <td>ORB</td>\n",
       "      <td>DRB</td>\n",
       "      <td>TRB</td>\n",
       "      <td>AST</td>\n",
       "      <td>STL</td>\n",
       "      <td>BLK</td>\n",
       "      <td>TOV</td>\n",
       "      <td>PF</td>\n",
       "      <td>PTS</td>\n",
       "    </tr>\n",
       "  </tbody>\n",
       "</table>\n",
       "<p>1 rows × 29 columns</p>\n",
       "</div>"
      ],
      "text/plain": [
       "    0     1       2         3   4   5   6   7    8    9  ...    19   20   21  \\\n",
       "0  Age  Team  League  Position  GP  GS  MP  FG  FGA  FG% ...   FT%  ORB  DRB   \n",
       "\n",
       "    22   23   24   25   26  27   28  \n",
       "0  TRB  AST  STL  BLK  TOV  PF  PTS  \n",
       "\n",
       "[1 rows x 29 columns]"
      ]
     },
     "execution_count": 10,
     "metadata": {},
     "output_type": "execute_result"
    }
   ],
   "source": [
    "labels = [['Age', 'Team', 'League', 'Position', 'GP', 'GS', 'MP', 'FG', 'FGA', 'FG%', '3P', '3PA', '3P%', '2P', '2PA', '2P%', 'eFG%', 'FT', 'FTA', 'FT%', 'ORB', 'DRB', 'TRB', 'AST', 'STL', 'BLK', 'TOV', 'PF', 'PTS']]\n",
    "labels_df = pd.DataFrame(labels)\n",
    "labels_df.head()\n"
   ]
  },
  {
   "cell_type": "code",
   "execution_count": 11,
   "metadata": {},
   "outputs": [
    {
     "data": {
      "text/html": [
       "<div>\n",
       "<style scoped>\n",
       "    .dataframe tbody tr th:only-of-type {\n",
       "        vertical-align: middle;\n",
       "    }\n",
       "\n",
       "    .dataframe tbody tr th {\n",
       "        vertical-align: top;\n",
       "    }\n",
       "\n",
       "    .dataframe thead th {\n",
       "        text-align: right;\n",
       "    }\n",
       "</style>\n",
       "<table border=\"1\" class=\"dataframe\">\n",
       "  <thead>\n",
       "    <tr style=\"text-align: right;\">\n",
       "      <th></th>\n",
       "      <th>0</th>\n",
       "      <th>1</th>\n",
       "      <th>2</th>\n",
       "      <th>3</th>\n",
       "      <th>4</th>\n",
       "      <th>5</th>\n",
       "      <th>6</th>\n",
       "      <th>7</th>\n",
       "      <th>8</th>\n",
       "      <th>9</th>\n",
       "      <th>...</th>\n",
       "      <th>19</th>\n",
       "      <th>20</th>\n",
       "      <th>21</th>\n",
       "      <th>22</th>\n",
       "      <th>23</th>\n",
       "      <th>24</th>\n",
       "      <th>25</th>\n",
       "      <th>26</th>\n",
       "      <th>27</th>\n",
       "      <th>28</th>\n",
       "    </tr>\n",
       "  </thead>\n",
       "  <tbody>\n",
       "    <tr>\n",
       "      <th>0</th>\n",
       "      <td>[19</td>\n",
       "      <td>CLE</td>\n",
       "      <td>NBA</td>\n",
       "      <td>SG</td>\n",
       "      <td>79</td>\n",
       "      <td>79</td>\n",
       "      <td>39.5</td>\n",
       "      <td>7.9</td>\n",
       "      <td>18.9</td>\n",
       "      <td>.417</td>\n",
       "      <td>...</td>\n",
       "      <td>.754</td>\n",
       "      <td>1.3</td>\n",
       "      <td>4.2</td>\n",
       "      <td>5.5</td>\n",
       "      <td>5.9</td>\n",
       "      <td>1.6</td>\n",
       "      <td>0.7</td>\n",
       "      <td>3.5</td>\n",
       "      <td>1.9</td>\n",
       "      <td>20.9]</td>\n",
       "    </tr>\n",
       "    <tr>\n",
       "      <th>1</th>\n",
       "      <td>[20</td>\n",
       "      <td>CLE</td>\n",
       "      <td>NBA</td>\n",
       "      <td>SF</td>\n",
       "      <td>80</td>\n",
       "      <td>80</td>\n",
       "      <td>42.4</td>\n",
       "      <td>9.9</td>\n",
       "      <td>21.1</td>\n",
       "      <td>.472</td>\n",
       "      <td>...</td>\n",
       "      <td>.750</td>\n",
       "      <td>1.4</td>\n",
       "      <td>6.0</td>\n",
       "      <td>7.4</td>\n",
       "      <td>7.2</td>\n",
       "      <td>2.2</td>\n",
       "      <td>0.7</td>\n",
       "      <td>3.3</td>\n",
       "      <td>1.8</td>\n",
       "      <td>27.2]</td>\n",
       "    </tr>\n",
       "    <tr>\n",
       "      <th>2</th>\n",
       "      <td>[21</td>\n",
       "      <td>CLE</td>\n",
       "      <td>NBA</td>\n",
       "      <td>SF</td>\n",
       "      <td>79</td>\n",
       "      <td>79</td>\n",
       "      <td>42.5</td>\n",
       "      <td>11.1</td>\n",
       "      <td>23.1</td>\n",
       "      <td>.480</td>\n",
       "      <td>...</td>\n",
       "      <td>.738</td>\n",
       "      <td>0.9</td>\n",
       "      <td>6.1</td>\n",
       "      <td>7.0</td>\n",
       "      <td>6.6</td>\n",
       "      <td>1.6</td>\n",
       "      <td>0.8</td>\n",
       "      <td>3.3</td>\n",
       "      <td>2.3</td>\n",
       "      <td>31.4]</td>\n",
       "    </tr>\n",
       "    <tr>\n",
       "      <th>3</th>\n",
       "      <td>[22</td>\n",
       "      <td>CLE</td>\n",
       "      <td>NBA</td>\n",
       "      <td>SF</td>\n",
       "      <td>78</td>\n",
       "      <td>78</td>\n",
       "      <td>40.9</td>\n",
       "      <td>9.9</td>\n",
       "      <td>20.8</td>\n",
       "      <td>.476</td>\n",
       "      <td>...</td>\n",
       "      <td>.698</td>\n",
       "      <td>1.1</td>\n",
       "      <td>5.7</td>\n",
       "      <td>6.7</td>\n",
       "      <td>6.0</td>\n",
       "      <td>1.6</td>\n",
       "      <td>0.7</td>\n",
       "      <td>3.2</td>\n",
       "      <td>2.2</td>\n",
       "      <td>27.3]</td>\n",
       "    </tr>\n",
       "    <tr>\n",
       "      <th>4</th>\n",
       "      <td>[23</td>\n",
       "      <td>CLE</td>\n",
       "      <td>NBA</td>\n",
       "      <td>SF</td>\n",
       "      <td>75</td>\n",
       "      <td>74</td>\n",
       "      <td>40.4</td>\n",
       "      <td>10.6</td>\n",
       "      <td>21.9</td>\n",
       "      <td>.484</td>\n",
       "      <td>...</td>\n",
       "      <td>.712</td>\n",
       "      <td>1.8</td>\n",
       "      <td>6.1</td>\n",
       "      <td>7.9</td>\n",
       "      <td>7.2</td>\n",
       "      <td>1.8</td>\n",
       "      <td>1.1</td>\n",
       "      <td>3.4</td>\n",
       "      <td>2.2</td>\n",
       "      <td>30.0]</td>\n",
       "    </tr>\n",
       "  </tbody>\n",
       "</table>\n",
       "<p>5 rows × 29 columns</p>\n",
       "</div>"
      ],
      "text/plain": [
       "    0     1     2    3    4    5      6      7      8      9    ...       19  \\\n",
       "0  [19   CLE   NBA   SG   79   79   39.5    7.9   18.9   .417   ...     .754   \n",
       "1  [20   CLE   NBA   SF   80   80   42.4    9.9   21.1   .472   ...     .750   \n",
       "2  [21   CLE   NBA   SF   79   79   42.5   11.1   23.1   .480   ...     .738   \n",
       "3  [22   CLE   NBA   SF   78   78   40.9    9.9   20.8   .476   ...     .698   \n",
       "4  [23   CLE   NBA   SF   75   74   40.4   10.6   21.9   .484   ...     .712   \n",
       "\n",
       "     20    21    22    23    24    25    26    27      28  \n",
       "0   1.3   4.2   5.5   5.9   1.6   0.7   3.5   1.9   20.9]  \n",
       "1   1.4   6.0   7.4   7.2   2.2   0.7   3.3   1.8   27.2]  \n",
       "2   0.9   6.1   7.0   6.6   1.6   0.8   3.3   2.3   31.4]  \n",
       "3   1.1   5.7   6.7   6.0   1.6   0.7   3.2   2.2   27.3]  \n",
       "4   1.8   6.1   7.9   7.2   1.8   1.1   3.4   2.2   30.0]  \n",
       "\n",
       "[5 rows x 29 columns]"
      ]
     },
     "execution_count": 11,
     "metadata": {},
     "output_type": "execute_result"
    }
   ],
   "source": [
    "df = pd.DataFrame(list_rows)\n",
    "df1 = df[0].str.split(',', expand=True)\n",
    "df1.head()"
   ]
  },
  {
   "cell_type": "markdown",
   "metadata": {},
   "source": [
    "# Finally, Data!"
   ]
  },
  {
   "cell_type": "code",
   "execution_count": 12,
   "metadata": {
    "scrolled": true
   },
   "outputs": [
    {
     "data": {
      "text/html": [
       "<div>\n",
       "<style scoped>\n",
       "    .dataframe tbody tr th:only-of-type {\n",
       "        vertical-align: middle;\n",
       "    }\n",
       "\n",
       "    .dataframe tbody tr th {\n",
       "        vertical-align: top;\n",
       "    }\n",
       "\n",
       "    .dataframe thead th {\n",
       "        text-align: right;\n",
       "    }\n",
       "</style>\n",
       "<table border=\"1\" class=\"dataframe\">\n",
       "  <thead>\n",
       "    <tr style=\"text-align: right;\">\n",
       "      <th></th>\n",
       "      <th>Age</th>\n",
       "      <th>Team</th>\n",
       "      <th>League</th>\n",
       "      <th>Position</th>\n",
       "      <th>GP</th>\n",
       "      <th>GS</th>\n",
       "      <th>MP</th>\n",
       "      <th>FG</th>\n",
       "      <th>FGA</th>\n",
       "      <th>FG%</th>\n",
       "      <th>...</th>\n",
       "      <th>FT%</th>\n",
       "      <th>ORB</th>\n",
       "      <th>DRB</th>\n",
       "      <th>TRB</th>\n",
       "      <th>AST</th>\n",
       "      <th>STL</th>\n",
       "      <th>BLK</th>\n",
       "      <th>TOV</th>\n",
       "      <th>PF</th>\n",
       "      <th>PTS</th>\n",
       "    </tr>\n",
       "  </thead>\n",
       "  <tbody>\n",
       "    <tr>\n",
       "      <th>0</th>\n",
       "      <td>19</td>\n",
       "      <td>CLE</td>\n",
       "      <td>NBA</td>\n",
       "      <td>SG</td>\n",
       "      <td>79</td>\n",
       "      <td>79</td>\n",
       "      <td>39.5</td>\n",
       "      <td>7.9</td>\n",
       "      <td>18.9</td>\n",
       "      <td>0.417</td>\n",
       "      <td>...</td>\n",
       "      <td>0.754</td>\n",
       "      <td>1.3</td>\n",
       "      <td>4.2</td>\n",
       "      <td>5.5</td>\n",
       "      <td>5.9</td>\n",
       "      <td>1.6</td>\n",
       "      <td>0.7</td>\n",
       "      <td>3.5</td>\n",
       "      <td>1.9</td>\n",
       "      <td>20.9</td>\n",
       "    </tr>\n",
       "    <tr>\n",
       "      <th>1</th>\n",
       "      <td>20</td>\n",
       "      <td>CLE</td>\n",
       "      <td>NBA</td>\n",
       "      <td>SF</td>\n",
       "      <td>80</td>\n",
       "      <td>80</td>\n",
       "      <td>42.4</td>\n",
       "      <td>9.9</td>\n",
       "      <td>21.1</td>\n",
       "      <td>0.472</td>\n",
       "      <td>...</td>\n",
       "      <td>0.750</td>\n",
       "      <td>1.4</td>\n",
       "      <td>6.0</td>\n",
       "      <td>7.4</td>\n",
       "      <td>7.2</td>\n",
       "      <td>2.2</td>\n",
       "      <td>0.7</td>\n",
       "      <td>3.3</td>\n",
       "      <td>1.8</td>\n",
       "      <td>27.2</td>\n",
       "    </tr>\n",
       "    <tr>\n",
       "      <th>2</th>\n",
       "      <td>21</td>\n",
       "      <td>CLE</td>\n",
       "      <td>NBA</td>\n",
       "      <td>SF</td>\n",
       "      <td>79</td>\n",
       "      <td>79</td>\n",
       "      <td>42.5</td>\n",
       "      <td>11.1</td>\n",
       "      <td>23.1</td>\n",
       "      <td>0.480</td>\n",
       "      <td>...</td>\n",
       "      <td>0.738</td>\n",
       "      <td>0.9</td>\n",
       "      <td>6.1</td>\n",
       "      <td>7.0</td>\n",
       "      <td>6.6</td>\n",
       "      <td>1.6</td>\n",
       "      <td>0.8</td>\n",
       "      <td>3.3</td>\n",
       "      <td>2.3</td>\n",
       "      <td>31.4</td>\n",
       "    </tr>\n",
       "    <tr>\n",
       "      <th>3</th>\n",
       "      <td>22</td>\n",
       "      <td>CLE</td>\n",
       "      <td>NBA</td>\n",
       "      <td>SF</td>\n",
       "      <td>78</td>\n",
       "      <td>78</td>\n",
       "      <td>40.9</td>\n",
       "      <td>9.9</td>\n",
       "      <td>20.8</td>\n",
       "      <td>0.476</td>\n",
       "      <td>...</td>\n",
       "      <td>0.698</td>\n",
       "      <td>1.1</td>\n",
       "      <td>5.7</td>\n",
       "      <td>6.7</td>\n",
       "      <td>6.0</td>\n",
       "      <td>1.6</td>\n",
       "      <td>0.7</td>\n",
       "      <td>3.2</td>\n",
       "      <td>2.2</td>\n",
       "      <td>27.3</td>\n",
       "    </tr>\n",
       "    <tr>\n",
       "      <th>4</th>\n",
       "      <td>23</td>\n",
       "      <td>CLE</td>\n",
       "      <td>NBA</td>\n",
       "      <td>SF</td>\n",
       "      <td>75</td>\n",
       "      <td>74</td>\n",
       "      <td>40.4</td>\n",
       "      <td>10.6</td>\n",
       "      <td>21.9</td>\n",
       "      <td>0.484</td>\n",
       "      <td>...</td>\n",
       "      <td>0.712</td>\n",
       "      <td>1.8</td>\n",
       "      <td>6.1</td>\n",
       "      <td>7.9</td>\n",
       "      <td>7.2</td>\n",
       "      <td>1.8</td>\n",
       "      <td>1.1</td>\n",
       "      <td>3.4</td>\n",
       "      <td>2.2</td>\n",
       "      <td>30.0</td>\n",
       "    </tr>\n",
       "  </tbody>\n",
       "</table>\n",
       "<p>5 rows × 29 columns</p>\n",
       "</div>"
      ],
      "text/plain": [
       "   Age  Team League Position  GP  GS    MP    FG   FGA    FG%  ...     FT%  \\\n",
       "0   19   CLE    NBA       SG  79  79  39.5   7.9  18.9  0.417  ...   0.754   \n",
       "1   20   CLE    NBA       SF  80  80  42.4   9.9  21.1  0.472  ...   0.750   \n",
       "2   21   CLE    NBA       SF  79  79  42.5  11.1  23.1  0.480  ...   0.738   \n",
       "3   22   CLE    NBA       SF  78  78  40.9   9.9  20.8  0.476  ...   0.698   \n",
       "4   23   CLE    NBA       SF  75  74  40.4  10.6  21.9  0.484  ...   0.712   \n",
       "\n",
       "   ORB  DRB  TRB  AST  STL  BLK  TOV   PF   PTS  \n",
       "0  1.3  4.2  5.5  5.9  1.6  0.7  3.5  1.9  20.9  \n",
       "1  1.4  6.0  7.4  7.2  2.2  0.7  3.3  1.8  27.2  \n",
       "2  0.9  6.1  7.0  6.6  1.6  0.8  3.3  2.3  31.4  \n",
       "3  1.1  5.7  6.7  6.0  1.6  0.7  3.2  2.2  27.3  \n",
       "4  1.8  6.1  7.9  7.2  1.8  1.1  3.4  2.2  30.0  \n",
       "\n",
       "[5 rows x 29 columns]"
      ]
     },
     "execution_count": 12,
     "metadata": {},
     "output_type": "execute_result"
    }
   ],
   "source": [
    "data_frames = [labels_df, df1]\n",
    "df4 = pd.concat(data_frames)\n",
    "df5 = df4.rename(columns=df4.iloc[0].str.strip())\n",
    "df6 = df5[df5.MP != 'MP']\n",
    "\n",
    "df6['Age'] = (df6['Age'].str.strip('['))\n",
    "df6['PTS'] = (df6['PTS'].str.strip(']'))\n",
    "df6['AST'] = df6['AST'].astype(float)\n",
    "\n",
    "df6 = df6.apply(fc.partial(pd.to_numeric, errors='ignore'))\n",
    "\n",
    "\n",
    "df6.head()"
   ]
  },
  {
   "cell_type": "markdown",
   "metadata": {},
   "source": [
    "# Time to graph some stuff"
   ]
  },
  {
   "cell_type": "code",
   "execution_count": 23,
   "metadata": {
    "scrolled": true
   },
   "outputs": [
    {
     "data": {
      "image/png": "[encoded data removed]",
      "text/plain": [
       "<matplotlib.figure.Figure at 0x11a6842b0>"
      ]
     },
     "metadata": {},
     "output_type": "display_data"
    }
   ],
   "source": [
    "sns.regplot(x='Age', y='AST', data=df6);"
   ]
  },
  {
   "cell_type": "code",
   "execution_count": 14,
   "metadata": {
    "scrolled": false
   },
   "outputs": [
    {
     "data": {
      "text/plain": [
       "<matplotlib.axes._subplots.AxesSubplot at 0x117d816d8>"
      ]
     },
     "execution_count": 14,
     "metadata": {},
     "output_type": "execute_result"
    },
    {
     "data": {
      "image/png": "[encoded data removed]",
      "text/plain": [
       "<matplotlib.figure.Figure at 0x117dad550>"
      ]
     },
     "metadata": {},
     "output_type": "display_data"
    }
   ],
   "source": [
    "sns.regplot(x='3PA', y='3P%', data=df6, color=\"green\")"
   ]
  },
  {
   "cell_type": "code",
   "execution_count": 15,
   "metadata": {},
   "outputs": [
    {
     "data": {
      "text/plain": [
       "<matplotlib.axes._subplots.AxesSubplot at 0x119de2208>"
      ]
     },
     "execution_count": 15,
     "metadata": {},
     "output_type": "execute_result"
    },
    {
     "data": {
      "image/png": "[encoded data removed]",
      "text/plain": [
       "<matplotlib.figure.Figure at 0x119e4a908>"
      ]
     },
     "metadata": {},
     "output_type": "display_data"
    }
   ],
   "source": [
    "sns.regplot(x='AST', y='TOV', data=df6, color=\"brown\")"
   ]
  },
  {
   "cell_type": "code",
   "execution_count": 17,
   "metadata": {},
   "outputs": [
    {
     "data": {
      "text/plain": [
       "<matplotlib.axes._subplots.AxesSubplot at 0x11a094208>"
      ]
     },
     "execution_count": 17,
     "metadata": {},
     "output_type": "execute_result"
    },
    {
     "data": {
      "image/png": "[encoded data removed]",
      "text/plain": [
       "<matplotlib.figure.Figure at 0x119f85b38>"
      ]
     },
     "metadata": {},
     "output_type": "display_data"
    }
   ],
   "source": [
    "sns.regplot(x='FGA', y='FG%', data=df6, color=\"orange\")"
   ]
  }
 ],
 "metadata": {
  "kernelspec": {
   "display_name": "Python 3",
   "language": "python",
   "name": "python3"
  },
  "language_info": {
   "codemirror_mode": {
    "name": "ipython",
    "version": 3
   },
   "file_extension": ".py",
   "mimetype": "text/x-python",
   "name": "python",
   "nbconvert_exporter": "python",
   "pygments_lexer": "ipython3",
   "version": "3.6.4"
  }
 },
 "nbformat": 4,
 "nbformat_minor": 2
}
